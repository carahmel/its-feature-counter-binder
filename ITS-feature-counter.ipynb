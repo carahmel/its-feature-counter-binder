{
 "cells": [
  {
   "cell_type": "code",
   "execution_count": null,
   "id": "b1c41791-c664-4d2e-9f75-f3a2043fcf7c",
   "metadata": {},
   "outputs": [],
   "source": [
    "# import libraries\n",
    "import geopandas as gpd\n",
    "import time\n",
    "\n",
    "# URL to source file from ich-tanke-strom.ch project (data in EPSG:4326)\n",
    "source_json = \"https://data.geo.admin.ch/ch.bfe.ladestellen-elektromobilitaet/data/ch.bfe.ladestellen-elektromobilitaet_fr.json\"  # can be updated #\n",
    "\n",
    "# load data \n",
    "lausanne = gpd.read_file(\"resources/limites_lausanne_2056.geojson\") \n",
    "bornes = gpd.read_file(source_json).to_crs(lausanne.crs) # ensure both datasets share the same CRS\n",
    "\n",
    "# spatial join to identify charging stations within lausanne\n",
    "bornesLS = gpd.sjoin(bornes, lausanne, how='inner')\n",
    "\n",
    "# time stamp\n",
    "now = time.strftime(\"%Y-%m-%d %H:%M:%S %Z\", time.localtime())\n",
    "\n",
    "# print results to console\n",
    "print(\"# Available:\", len(bornesLS[bornesLS['Availability']== \"Available\"]))\n",
    "print(\"# Occupied:\", len(bornesLS[bornesLS['Availability']== \"Occupied\"]))\n",
    "print(\"# Out of service:\", len(bornesLS[bornesLS['Availability']== \"Out of service\"]))\n",
    "print(\"# Unknown:\", len(bornesLS[bornesLS['Availability']== \"Unknown\"]))\n",
    "print(\"TOTAL:\", len(bornesLS))\n",
    "print(f\"({now})\")"
   ]
  }
 ],
 "metadata": {
  "kernelspec": {
   "display_name": "Python 3 (ipykernel)",
   "language": "python",
   "name": "python3"
  },
  "language_info": {
   "codemirror_mode": {
    "name": "ipython",
    "version": 3
   },
   "file_extension": ".py",
   "mimetype": "text/x-python",
   "name": "python",
   "nbconvert_exporter": "python",
   "pygments_lexer": "ipython3",
   "version": "3.10.6"
  }
 },
 "nbformat": 4,
 "nbformat_minor": 5
}
